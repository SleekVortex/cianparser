{
 "cells": [
  {
   "cell_type": "code",
   "execution_count": 4,
   "metadata": {},
   "outputs": [],
   "source": [
    "import pandas as pd\n",
    "import matplotlib.pyplot as plt\n",
    "%matplotlib inline\n",
    "from sklearn.linear_model import LinearRegression\n",
    "from sklearn.model_selection import train_test_split\n",
    "from sklearn.preprocessing import LabelEncoder\n",
    "from sklearn.metrics import mean_absolute_error as mae, mean_squared_error as mse"
   ]
  },
  {
   "cell_type": "code",
   "execution_count": 17,
   "metadata": {},
   "outputs": [],
   "source": [
    "def accuracy_report(y_true, y_pred, make_plot=True):\n",
    "    print('MSE: {:.3f}'.format(mse(y_true, y_pred)))\n",
    "    print('RMSE: {:.3f}'.format(np.sqrt(mse(y_true, y_pred))))\n",
    "    print('MAE: {:.3f}'.format(mae(y_true, y_pred)))\n",
    "    if make_plot:\n",
    "        plt.figure(figsize=(8,6))\n",
    "        plt.scatter(y_true, y_pred)\n",
    "        plt.xlabel('Reality')\n",
    "        plt.ylabel('Prediction')\n",
    "        plt.plot([y_true.min(), y_true.max()], [y_true.min(), y_true.max()], 'r--')"
   ]
  },
  {
   "cell_type": "code",
   "execution_count": 18,
   "metadata": {},
   "outputs": [
    {
     "data": {
      "text/html": [
       "<div>\n",
       "<style scoped>\n",
       "    .dataframe tbody tr th:only-of-type {\n",
       "        vertical-align: middle;\n",
       "    }\n",
       "\n",
       "    .dataframe tbody tr th {\n",
       "        vertical-align: top;\n",
       "    }\n",
       "\n",
       "    .dataframe thead th {\n",
       "        text-align: right;\n",
       "    }\n",
       "</style>\n",
       "<table border=\"1\" class=\"dataframe\">\n",
       "  <thead>\n",
       "    <tr style=\"text-align: right;\">\n",
       "      <th></th>\n",
       "      <th>Square_meters</th>\n",
       "      <th>Commissions %</th>\n",
       "      <th>Street</th>\n",
       "      <th>Link</th>\n",
       "      <th>District</th>\n",
       "      <th>Floor</th>\n",
       "      <th>Price_per_month</th>\n",
       "      <th>Author</th>\n",
       "      <th>All_floors</th>\n",
       "      <th>How_many_rooms</th>\n",
       "      <th>Price_per_meters</th>\n",
       "    </tr>\n",
       "  </thead>\n",
       "  <tbody>\n",
       "    <tr>\n",
       "      <th>0</th>\n",
       "      <td>62</td>\n",
       "      <td>50</td>\n",
       "      <td>Sibgata Hakima</td>\n",
       "      <td>https://kazan.cian.ru/rent/flat/244424052/</td>\n",
       "      <td>Novo-Savinovskij</td>\n",
       "      <td>12</td>\n",
       "      <td>30000</td>\n",
       "      <td>ID 305100</td>\n",
       "      <td>18</td>\n",
       "      <td>2</td>\n",
       "      <td>483.870968</td>\n",
       "    </tr>\n",
       "    <tr>\n",
       "      <th>1</th>\n",
       "      <td>75</td>\n",
       "      <td>50</td>\n",
       "      <td>Dostoevskogo</td>\n",
       "      <td>https://kazan.cian.ru/rent/flat/243318735/</td>\n",
       "      <td>Vahitovskij</td>\n",
       "      <td>5</td>\n",
       "      <td>30000</td>\n",
       "      <td>ID 305100</td>\n",
       "      <td>12</td>\n",
       "      <td>2</td>\n",
       "      <td>400.000000</td>\n",
       "    </tr>\n",
       "    <tr>\n",
       "      <th>2</th>\n",
       "      <td>186</td>\n",
       "      <td>50</td>\n",
       "      <td>Sibgata Hakima</td>\n",
       "      <td>https://kazan.cian.ru/rent/flat/237818882/</td>\n",
       "      <td>Novo-Savinovskij</td>\n",
       "      <td>9</td>\n",
       "      <td>100000</td>\n",
       "      <td>ID 305100</td>\n",
       "      <td>16</td>\n",
       "      <td>4</td>\n",
       "      <td>537.634409</td>\n",
       "    </tr>\n",
       "    <tr>\n",
       "      <th>3</th>\n",
       "      <td>110</td>\n",
       "      <td>50</td>\n",
       "      <td>Tovarischeskaja</td>\n",
       "      <td>https://kazan.cian.ru/rent/flat/236848944/</td>\n",
       "      <td>Vahitovskij</td>\n",
       "      <td>5</td>\n",
       "      <td>50000</td>\n",
       "      <td>ID 305100</td>\n",
       "      <td>9</td>\n",
       "      <td>3</td>\n",
       "      <td>454.545455</td>\n",
       "    </tr>\n",
       "    <tr>\n",
       "      <th>4</th>\n",
       "      <td>220</td>\n",
       "      <td>50</td>\n",
       "      <td>Tolstogo</td>\n",
       "      <td>https://kazan.cian.ru/rent/flat/243010354/</td>\n",
       "      <td>Vahitovskij</td>\n",
       "      <td>9</td>\n",
       "      <td>130000</td>\n",
       "      <td>ID 305100</td>\n",
       "      <td>12</td>\n",
       "      <td>4</td>\n",
       "      <td>590.909091</td>\n",
       "    </tr>\n",
       "  </tbody>\n",
       "</table>\n",
       "</div>"
      ],
      "text/plain": [
       "   Square_meters  Commissions %             Street  \\\n",
       "0             62             50     Sibgata Hakima   \n",
       "1             75             50       Dostoevskogo   \n",
       "2            186             50     Sibgata Hakima   \n",
       "3            110             50   Tovarischeskaja    \n",
       "4            220             50           Tolstogo   \n",
       "\n",
       "                                         Link          District  Floor  \\\n",
       "0  https://kazan.cian.ru/rent/flat/244424052/  Novo-Savinovskij     12   \n",
       "1  https://kazan.cian.ru/rent/flat/243318735/       Vahitovskij      5   \n",
       "2  https://kazan.cian.ru/rent/flat/237818882/  Novo-Savinovskij      9   \n",
       "3  https://kazan.cian.ru/rent/flat/236848944/       Vahitovskij      5   \n",
       "4  https://kazan.cian.ru/rent/flat/243010354/       Vahitovskij      9   \n",
       "\n",
       "   Price_per_month     Author  All_floors  How_many_rooms  Price_per_meters  \n",
       "0            30000  ID 305100          18               2        483.870968  \n",
       "1            30000  ID 305100          12               2        400.000000  \n",
       "2           100000  ID 305100          16               4        537.634409  \n",
       "3            50000  ID 305100           9               3        454.545455  \n",
       "4           130000  ID 305100          12               4        590.909091  "
      ]
     },
     "execution_count": 18,
     "metadata": {},
     "output_type": "execute_result"
    }
   ],
   "source": [
    "df = pd.read_csv(\"C:\\\\Users\\\\Lenar\\\\PycharmProjects\\\\python-parser-cian\\\\data.csv\")\n",
    "df[\"Price_per_meters\"] = df[\"Price_per_month\"]/(df[\"Square_meters\"].astype(float))\n",
    "df[\"Author\"] = (df[\"Author\"].astype(str))\n",
    "\n",
    "df.head()"
   ]
  },
  {
   "cell_type": "markdown",
   "metadata": {},
   "source": [
    "### Отбросим некоторые признаки"
   ]
  },
  {
   "cell_type": "code",
   "execution_count": 19,
   "metadata": {},
   "outputs": [
    {
     "data": {
      "text/html": [
       "<div>\n",
       "<style scoped>\n",
       "    .dataframe tbody tr th:only-of-type {\n",
       "        vertical-align: middle;\n",
       "    }\n",
       "\n",
       "    .dataframe tbody tr th {\n",
       "        vertical-align: top;\n",
       "    }\n",
       "\n",
       "    .dataframe thead th {\n",
       "        text-align: right;\n",
       "    }\n",
       "</style>\n",
       "<table border=\"1\" class=\"dataframe\">\n",
       "  <thead>\n",
       "    <tr style=\"text-align: right;\">\n",
       "      <th></th>\n",
       "      <th>Square_meters</th>\n",
       "      <th>District</th>\n",
       "      <th>Floor</th>\n",
       "      <th>Author</th>\n",
       "      <th>All_floors</th>\n",
       "      <th>How_many_rooms</th>\n",
       "      <th>Price_per_meters</th>\n",
       "    </tr>\n",
       "  </thead>\n",
       "  <tbody>\n",
       "    <tr>\n",
       "      <th>0</th>\n",
       "      <td>62</td>\n",
       "      <td>Novo-Savinovskij</td>\n",
       "      <td>12</td>\n",
       "      <td>ID 305100</td>\n",
       "      <td>18</td>\n",
       "      <td>2</td>\n",
       "      <td>483.870968</td>\n",
       "    </tr>\n",
       "    <tr>\n",
       "      <th>1</th>\n",
       "      <td>75</td>\n",
       "      <td>Vahitovskij</td>\n",
       "      <td>5</td>\n",
       "      <td>ID 305100</td>\n",
       "      <td>12</td>\n",
       "      <td>2</td>\n",
       "      <td>400.000000</td>\n",
       "    </tr>\n",
       "    <tr>\n",
       "      <th>2</th>\n",
       "      <td>186</td>\n",
       "      <td>Novo-Savinovskij</td>\n",
       "      <td>9</td>\n",
       "      <td>ID 305100</td>\n",
       "      <td>16</td>\n",
       "      <td>4</td>\n",
       "      <td>537.634409</td>\n",
       "    </tr>\n",
       "    <tr>\n",
       "      <th>3</th>\n",
       "      <td>110</td>\n",
       "      <td>Vahitovskij</td>\n",
       "      <td>5</td>\n",
       "      <td>ID 305100</td>\n",
       "      <td>9</td>\n",
       "      <td>3</td>\n",
       "      <td>454.545455</td>\n",
       "    </tr>\n",
       "    <tr>\n",
       "      <th>4</th>\n",
       "      <td>220</td>\n",
       "      <td>Vahitovskij</td>\n",
       "      <td>9</td>\n",
       "      <td>ID 305100</td>\n",
       "      <td>12</td>\n",
       "      <td>4</td>\n",
       "      <td>590.909091</td>\n",
       "    </tr>\n",
       "  </tbody>\n",
       "</table>\n",
       "</div>"
      ],
      "text/plain": [
       "   Square_meters          District  Floor     Author  All_floors  \\\n",
       "0             62  Novo-Savinovskij     12  ID 305100          18   \n",
       "1             75       Vahitovskij      5  ID 305100          12   \n",
       "2            186  Novo-Savinovskij      9  ID 305100          16   \n",
       "3            110       Vahitovskij      5  ID 305100           9   \n",
       "4            220       Vahitovskij      9  ID 305100          12   \n",
       "\n",
       "   How_many_rooms  Price_per_meters  \n",
       "0               2        483.870968  \n",
       "1               2        400.000000  \n",
       "2               4        537.634409  \n",
       "3               3        454.545455  \n",
       "4               4        590.909091  "
      ]
     },
     "execution_count": 19,
     "metadata": {},
     "output_type": "execute_result"
    }
   ],
   "source": [
    "del df['Link']\n",
    "del df['Commissions %']\n",
    "del df['Street']\n",
    "del df['Price_per_month']\n",
    "\n",
    "df.head()"
   ]
  },
  {
   "cell_type": "markdown",
   "metadata": {},
   "source": [
    "### Рассмотрим, в каких районах больше всего предложений"
   ]
  },
  {
   "cell_type": "code",
   "execution_count": 29,
   "metadata": {
    "scrolled": false
   },
   "outputs": [
    {
     "data": {
      "text/plain": [
       "<matplotlib.axes._subplots.AxesSubplot at 0x1e7afc632c8>"
      ]
     },
     "execution_count": 29,
     "metadata": {},
     "output_type": "execute_result"
    },
    {
     "data": {
      "image/png": "[encoded data removed]",
      "text/plain": [
       "<Figure size 700x630 with 1 Axes>"
      ]
     },
     "metadata": {},
     "output_type": "display_data"
    }
   ],
   "source": [
    "fig=plt.figure(figsize=(10, 9), dpi= 70, facecolor='w', edgecolor='k')\n",
    "df['District'].hist()"
   ]
  },
  {
   "cell_type": "markdown",
   "metadata": {},
   "source": [
    "### Распределение цен на квадратный метр"
   ]
  },
  {
   "cell_type": "code",
   "execution_count": 30,
   "metadata": {
    "scrolled": false
   },
   "outputs": [
    {
     "data": {
      "text/plain": [
       "<matplotlib.axes._subplots.AxesSubplot at 0x1e7afcf09c8>"
      ]
     },
     "execution_count": 30,
     "metadata": {},
     "output_type": "execute_result"
    },
    {
     "data": {
      "image/png": "[encoded data removed]",
      "text/plain": [
       "<Figure size 700x630 with 1 Axes>"
      ]
     },
     "metadata": {},
     "output_type": "display_data"
    }
   ],
   "source": [
    "fig=plt.figure(figsize=(10, 9), dpi= 70, facecolor='w', edgecolor='k')\n",
    "df['Price_per_meters'].hist()"
   ]
  },
  {
   "cell_type": "code",
   "execution_count": 39,
   "metadata": {},
   "outputs": [
    {
     "data": {
      "text/plain": [
       "<matplotlib.axes._subplots.AxesSubplot at 0x1e7b02d2308>"
      ]
     },
     "execution_count": 39,
     "metadata": {},
     "output_type": "execute_result"
    },
    {
     "data": {
      "image/png": "[encoded data removed]",
      "text/plain": [
       "<Figure size 432x288 with 1 Axes>"
      ]
     },
     "metadata": {
      "needs_background": "light"
     },
     "output_type": "display_data"
    }
   ],
   "source": [
    "df.plot.scatter(x = 'Floor', y = 'Price_per_meters')"
   ]
  },
  {
   "cell_type": "markdown",
   "metadata": {},
   "source": [
    "### Исследуем данные в зависимости от района"
   ]
  },
  {
   "cell_type": "markdown",
   "metadata": {},
   "source": [
    "#### 1. Вахитовский район"
   ]
  },
  {
   "cell_type": "code",
   "execution_count": 34,
   "metadata": {},
   "outputs": [
    {
     "data": {
      "text/html": [
       "<div>\n",
       "<style scoped>\n",
       "    .dataframe tbody tr th:only-of-type {\n",
       "        vertical-align: middle;\n",
       "    }\n",
       "\n",
       "    .dataframe tbody tr th {\n",
       "        vertical-align: top;\n",
       "    }\n",
       "\n",
       "    .dataframe thead th {\n",
       "        text-align: right;\n",
       "    }\n",
       "</style>\n",
       "<table border=\"1\" class=\"dataframe\">\n",
       "  <thead>\n",
       "    <tr style=\"text-align: right;\">\n",
       "      <th></th>\n",
       "      <th>Square_meters</th>\n",
       "      <th>District</th>\n",
       "      <th>Floor</th>\n",
       "      <th>Author</th>\n",
       "      <th>All_floors</th>\n",
       "      <th>How_many_rooms</th>\n",
       "      <th>Price_per_meters</th>\n",
       "    </tr>\n",
       "  </thead>\n",
       "  <tbody>\n",
       "    <tr>\n",
       "      <th>1</th>\n",
       "      <td>75</td>\n",
       "      <td>Vahitovskij</td>\n",
       "      <td>5</td>\n",
       "      <td>ID 305100</td>\n",
       "      <td>12</td>\n",
       "      <td>2</td>\n",
       "      <td>400.000000</td>\n",
       "    </tr>\n",
       "    <tr>\n",
       "      <th>3</th>\n",
       "      <td>110</td>\n",
       "      <td>Vahitovskij</td>\n",
       "      <td>5</td>\n",
       "      <td>ID 305100</td>\n",
       "      <td>9</td>\n",
       "      <td>3</td>\n",
       "      <td>454.545455</td>\n",
       "    </tr>\n",
       "    <tr>\n",
       "      <th>4</th>\n",
       "      <td>220</td>\n",
       "      <td>Vahitovskij</td>\n",
       "      <td>9</td>\n",
       "      <td>ID 305100</td>\n",
       "      <td>12</td>\n",
       "      <td>4</td>\n",
       "      <td>590.909091</td>\n",
       "    </tr>\n",
       "    <tr>\n",
       "      <th>6</th>\n",
       "      <td>65</td>\n",
       "      <td>Vahitovskij</td>\n",
       "      <td>2</td>\n",
       "      <td>ID 305100</td>\n",
       "      <td>5</td>\n",
       "      <td>2</td>\n",
       "      <td>461.538462</td>\n",
       "    </tr>\n",
       "    <tr>\n",
       "      <th>8</th>\n",
       "      <td>85</td>\n",
       "      <td>Vahitovskij</td>\n",
       "      <td>15</td>\n",
       "      <td>ID 305100</td>\n",
       "      <td>20</td>\n",
       "      <td>3</td>\n",
       "      <td>823.529412</td>\n",
       "    </tr>\n",
       "  </tbody>\n",
       "</table>\n",
       "</div>"
      ],
      "text/plain": [
       "   Square_meters     District  Floor     Author  All_floors  How_many_rooms  \\\n",
       "1             75  Vahitovskij      5  ID 305100          12               2   \n",
       "3            110  Vahitovskij      5  ID 305100           9               3   \n",
       "4            220  Vahitovskij      9  ID 305100          12               4   \n",
       "6             65  Vahitovskij      2  ID 305100           5               2   \n",
       "8             85  Vahitovskij     15  ID 305100          20               3   \n",
       "\n",
       "   Price_per_meters  \n",
       "1        400.000000  \n",
       "3        454.545455  \n",
       "4        590.909091  \n",
       "6        461.538462  \n",
       "8        823.529412  "
      ]
     },
     "execution_count": 34,
     "metadata": {},
     "output_type": "execute_result"
    }
   ],
   "source": [
    "data_vahitov = df.loc[df['District'] == 'Vahitovskij'].copy()\n",
    "data_vahitov.head()"
   ]
  },
  {
   "cell_type": "code",
   "execution_count": 36,
   "metadata": {},
   "outputs": [
    {
     "data": {
      "text/plain": [
       "<matplotlib.axes._subplots.AxesSubplot at 0x1e7b0429748>"
      ]
     },
     "execution_count": 36,
     "metadata": {},
     "output_type": "execute_result"
    },
    {
     "data": {
      "image/png": "[encoded data removed]",
      "text/plain": [
       "<Figure size 700x630 with 1 Axes>"
      ]
     },
     "metadata": {},
     "output_type": "display_data"
    }
   ],
   "source": [
    "fig=plt.figure(figsize=(10, 9), dpi= 70, facecolor='w', edgecolor='k')\n",
    "data_vahitov['Price_per_meters'].hist()"
   ]
  },
  {
   "cell_type": "markdown",
   "metadata": {},
   "source": [
    "### Преобразуем нечисловые признаки в числовые"
   ]
  },
  {
   "cell_type": "code",
   "execution_count": 58,
   "metadata": {},
   "outputs": [
    {
     "data": {
      "text/html": [
       "<div>\n",
       "<style scoped>\n",
       "    .dataframe tbody tr th:only-of-type {\n",
       "        vertical-align: middle;\n",
       "    }\n",
       "\n",
       "    .dataframe tbody tr th {\n",
       "        vertical-align: top;\n",
       "    }\n",
       "\n",
       "    .dataframe thead th {\n",
       "        text-align: right;\n",
       "    }\n",
       "</style>\n",
       "<table border=\"1\" class=\"dataframe\">\n",
       "  <thead>\n",
       "    <tr style=\"text-align: right;\">\n",
       "      <th></th>\n",
       "      <th>How_many_rooms</th>\n",
       "      <th>All_floors</th>\n",
       "      <th>Floor</th>\n",
       "      <th>Square_meters</th>\n",
       "      <th>Author</th>\n",
       "      <th>Price_per_meters</th>\n",
       "    </tr>\n",
       "  </thead>\n",
       "  <tbody>\n",
       "    <tr>\n",
       "      <th>0</th>\n",
       "      <td>4</td>\n",
       "      <td>16</td>\n",
       "      <td>9</td>\n",
       "      <td>186</td>\n",
       "      <td>48</td>\n",
       "      <td>537.634409</td>\n",
       "    </tr>\n",
       "    <tr>\n",
       "      <th>1</th>\n",
       "      <td>2</td>\n",
       "      <td>18</td>\n",
       "      <td>12</td>\n",
       "      <td>62</td>\n",
       "      <td>48</td>\n",
       "      <td>483.870968</td>\n",
       "    </tr>\n",
       "    <tr>\n",
       "      <th>2</th>\n",
       "      <td>2</td>\n",
       "      <td>12</td>\n",
       "      <td>5</td>\n",
       "      <td>75</td>\n",
       "      <td>48</td>\n",
       "      <td>400.000000</td>\n",
       "    </tr>\n",
       "    <tr>\n",
       "      <th>3</th>\n",
       "      <td>3</td>\n",
       "      <td>9</td>\n",
       "      <td>5</td>\n",
       "      <td>110</td>\n",
       "      <td>48</td>\n",
       "      <td>454.545455</td>\n",
       "    </tr>\n",
       "    <tr>\n",
       "      <th>4</th>\n",
       "      <td>2</td>\n",
       "      <td>5</td>\n",
       "      <td>2</td>\n",
       "      <td>65</td>\n",
       "      <td>48</td>\n",
       "      <td>461.538462</td>\n",
       "    </tr>\n",
       "  </tbody>\n",
       "</table>\n",
       "</div>"
      ],
      "text/plain": [
       "   How_many_rooms  All_floors  Floor  Square_meters  Author  Price_per_meters\n",
       "0               4          16      9            186      48        537.634409\n",
       "1               2          18     12             62      48        483.870968\n",
       "2               2          12      5             75      48        400.000000\n",
       "3               3           9      5            110      48        454.545455\n",
       "4               2           5      2             65      48        461.538462"
      ]
     },
     "execution_count": 58,
     "metadata": {},
     "output_type": "execute_result"
    }
   ],
   "source": [
    "enc = LabelEncoder()\n",
    "df.iloc[:,4] = enc.fit_transform(df.iloc[:,4])\n",
    "\n",
    "df.head()"
   ]
  },
  {
   "cell_type": "markdown",
   "metadata": {},
   "source": [
    "### Построим гистаграмму распределения объявлений"
   ]
  },
  {
   "cell_type": "code",
   "execution_count": 59,
   "metadata": {
    "scrolled": true
   },
   "outputs": [
    {
     "data": {
      "text/plain": [
       "<matplotlib.axes._subplots.AxesSubplot at 0x26919857c48>"
      ]
     },
     "execution_count": 59,
     "metadata": {},
     "output_type": "execute_result"
    },
    {
     "data": {
      "image/png": "[encoded data removed]",
      "text/plain": [
       "<Figure size 432x288 with 1 Axes>"
      ]
     },
     "metadata": {
      "needs_background": "light"
     },
     "output_type": "display_data"
    }
   ],
   "source": [
    "df['Author'].hist()"
   ]
  },
  {
   "cell_type": "markdown",
   "metadata": {},
   "source": [
    "#### Видно, что довольно много людей имеют по несколько сотен объявлений (от 150 и более)"
   ]
  },
  {
   "cell_type": "markdown",
   "metadata": {},
   "source": [
    "### Применим линейную модель"
   ]
  },
  {
   "cell_type": "code",
   "execution_count": 60,
   "metadata": {},
   "outputs": [
    {
     "name": "stdout",
     "output_type": "stream",
     "text": [
      "MSE: 14043.432\n",
      "RMSE: 118.505\n",
      "MAE: 78.800\n"
     ]
    },
    {
     "data": {
      "image/png": "[encoded data removed]",
      "text/plain": [
       "<Figure size 576x432 with 1 Axes>"
      ]
     },
     "metadata": {
      "needs_background": "light"
     },
     "output_type": "display_data"
    }
   ],
   "source": [
    "train_data, test_data, train_labels, test_labels = train_test_split(df.iloc[:, :-1], df.iloc[:, -1], test_size = 0.1, random_state=0)\n",
    "\n",
    "model = LinearRegression()\n",
    "model.fit(X=train_data, y=train_labels)\n",
    "\n",
    "accuracy_report(test_labels, model.predict(test_data))\n"
   ]
  },
  {
   "cell_type": "markdown",
   "metadata": {},
   "source": [
    "### Также применим линейную модель, но предварительно удалив ещё один признак"
   ]
  },
  {
   "cell_type": "code",
   "execution_count": 61,
   "metadata": {},
   "outputs": [
    {
     "data": {
      "text/html": [
       "<div>\n",
       "<style scoped>\n",
       "    .dataframe tbody tr th:only-of-type {\n",
       "        vertical-align: middle;\n",
       "    }\n",
       "\n",
       "    .dataframe tbody tr th {\n",
       "        vertical-align: top;\n",
       "    }\n",
       "\n",
       "    .dataframe thead th {\n",
       "        text-align: right;\n",
       "    }\n",
       "</style>\n",
       "<table border=\"1\" class=\"dataframe\">\n",
       "  <thead>\n",
       "    <tr style=\"text-align: right;\">\n",
       "      <th></th>\n",
       "      <th>How_many_rooms</th>\n",
       "      <th>All_floors</th>\n",
       "      <th>Floor</th>\n",
       "      <th>Square_meters</th>\n",
       "      <th>Author</th>\n",
       "      <th>Price_per_meters</th>\n",
       "    </tr>\n",
       "  </thead>\n",
       "  <tbody>\n",
       "    <tr>\n",
       "      <th>0</th>\n",
       "      <td>4</td>\n",
       "      <td>16</td>\n",
       "      <td>9</td>\n",
       "      <td>186</td>\n",
       "      <td>48</td>\n",
       "      <td>537.634409</td>\n",
       "    </tr>\n",
       "    <tr>\n",
       "      <th>1</th>\n",
       "      <td>2</td>\n",
       "      <td>18</td>\n",
       "      <td>12</td>\n",
       "      <td>62</td>\n",
       "      <td>48</td>\n",
       "      <td>483.870968</td>\n",
       "    </tr>\n",
       "    <tr>\n",
       "      <th>2</th>\n",
       "      <td>2</td>\n",
       "      <td>12</td>\n",
       "      <td>5</td>\n",
       "      <td>75</td>\n",
       "      <td>48</td>\n",
       "      <td>400.000000</td>\n",
       "    </tr>\n",
       "    <tr>\n",
       "      <th>3</th>\n",
       "      <td>3</td>\n",
       "      <td>9</td>\n",
       "      <td>5</td>\n",
       "      <td>110</td>\n",
       "      <td>48</td>\n",
       "      <td>454.545455</td>\n",
       "    </tr>\n",
       "    <tr>\n",
       "      <th>4</th>\n",
       "      <td>2</td>\n",
       "      <td>5</td>\n",
       "      <td>2</td>\n",
       "      <td>65</td>\n",
       "      <td>48</td>\n",
       "      <td>461.538462</td>\n",
       "    </tr>\n",
       "  </tbody>\n",
       "</table>\n",
       "</div>"
      ],
      "text/plain": [
       "   How_many_rooms  All_floors  Floor  Square_meters  Author  Price_per_meters\n",
       "0               4          16      9            186      48        537.634409\n",
       "1               2          18     12             62      48        483.870968\n",
       "2               2          12      5             75      48        400.000000\n",
       "3               3           9      5            110      48        454.545455\n",
       "4               2           5      2             65      48        461.538462"
      ]
     },
     "execution_count": 61,
     "metadata": {},
     "output_type": "execute_result"
    }
   ],
   "source": [
    "df2 = df.copy()\n",
    "df2.head()"
   ]
  },
  {
   "cell_type": "code",
   "execution_count": 62,
   "metadata": {},
   "outputs": [
    {
     "data": {
      "text/html": [
       "<div>\n",
       "<style scoped>\n",
       "    .dataframe tbody tr th:only-of-type {\n",
       "        vertical-align: middle;\n",
       "    }\n",
       "\n",
       "    .dataframe tbody tr th {\n",
       "        vertical-align: top;\n",
       "    }\n",
       "\n",
       "    .dataframe thead th {\n",
       "        text-align: right;\n",
       "    }\n",
       "</style>\n",
       "<table border=\"1\" class=\"dataframe\">\n",
       "  <thead>\n",
       "    <tr style=\"text-align: right;\">\n",
       "      <th></th>\n",
       "      <th>How_many_rooms</th>\n",
       "      <th>All_floors</th>\n",
       "      <th>Floor</th>\n",
       "      <th>Square_meters</th>\n",
       "      <th>Price_per_meters</th>\n",
       "    </tr>\n",
       "  </thead>\n",
       "  <tbody>\n",
       "    <tr>\n",
       "      <th>0</th>\n",
       "      <td>4</td>\n",
       "      <td>16</td>\n",
       "      <td>9</td>\n",
       "      <td>186</td>\n",
       "      <td>537.634409</td>\n",
       "    </tr>\n",
       "    <tr>\n",
       "      <th>1</th>\n",
       "      <td>2</td>\n",
       "      <td>18</td>\n",
       "      <td>12</td>\n",
       "      <td>62</td>\n",
       "      <td>483.870968</td>\n",
       "    </tr>\n",
       "    <tr>\n",
       "      <th>2</th>\n",
       "      <td>2</td>\n",
       "      <td>12</td>\n",
       "      <td>5</td>\n",
       "      <td>75</td>\n",
       "      <td>400.000000</td>\n",
       "    </tr>\n",
       "    <tr>\n",
       "      <th>3</th>\n",
       "      <td>3</td>\n",
       "      <td>9</td>\n",
       "      <td>5</td>\n",
       "      <td>110</td>\n",
       "      <td>454.545455</td>\n",
       "    </tr>\n",
       "    <tr>\n",
       "      <th>4</th>\n",
       "      <td>2</td>\n",
       "      <td>5</td>\n",
       "      <td>2</td>\n",
       "      <td>65</td>\n",
       "      <td>461.538462</td>\n",
       "    </tr>\n",
       "  </tbody>\n",
       "</table>\n",
       "</div>"
      ],
      "text/plain": [
       "   How_many_rooms  All_floors  Floor  Square_meters  Price_per_meters\n",
       "0               4          16      9            186        537.634409\n",
       "1               2          18     12             62        483.870968\n",
       "2               2          12      5             75        400.000000\n",
       "3               3           9      5            110        454.545455\n",
       "4               2           5      2             65        461.538462"
      ]
     },
     "execution_count": 62,
     "metadata": {},
     "output_type": "execute_result"
    }
   ],
   "source": [
    "del df2['Author']\n",
    "\n",
    "df2.head()"
   ]
  },
  {
   "cell_type": "code",
   "execution_count": 63,
   "metadata": {},
   "outputs": [
    {
     "name": "stdout",
     "output_type": "stream",
     "text": [
      "MSE: 14361.682\n",
      "RMSE: 119.840\n",
      "MAE: 80.204\n"
     ]
    },
    {
     "data": {
      "image/png": "[encoded data removed]",
      "text/plain": [
       "<Figure size 576x432 with 1 Axes>"
      ]
     },
     "metadata": {
      "needs_background": "light"
     },
     "output_type": "display_data"
    }
   ],
   "source": [
    "train_data, test_data, train_labels, test_labels = train_test_split(df2.iloc[:, :-1], df2.iloc[:, -1], test_size = 0.1, random_state=0)\n",
    "model = LinearRegression()\n",
    "model.fit(X=train_data, y=train_labels)\n",
    "\n",
    "accuracy_report(test_labels, model.predict(test_data))\n"
   ]
  },
  {
   "cell_type": "code",
   "execution_count": null,
   "metadata": {},
   "outputs": [],
   "source": []
  }
 ],
 "metadata": {
  "kernelspec": {
   "display_name": "Python 3",
   "language": "python",
   "name": "python3"
  },
  "language_info": {
   "codemirror_mode": {
    "name": "ipython",
    "version": 3
   },
   "file_extension": ".py",
   "mimetype": "text/x-python",
   "name": "python",
   "nbconvert_exporter": "python",
   "pygments_lexer": "ipython3",
   "version": "3.7.6"
  }
 },
 "nbformat": 4,
 "nbformat_minor": 4
}
