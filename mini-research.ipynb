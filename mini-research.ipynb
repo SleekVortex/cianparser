{
 "cells": [
  {
   "cell_type": "code",
   "execution_count": 34,
   "metadata": {},
   "outputs": [],
   "source": [
    "import pandas as pd\n",
    "import matplotlib.pyplot as plt\n",
    "%matplotlib inline\n",
    "from sklearn.linear_model import LinearRegression\n",
    "from sklearn.model_selection import train_test_split\n",
    "from sklearn.preprocessing import LabelEncoder\n",
    "from sklearn.metrics import mean_absolute_error as mae, mean_squared_error as mse"
   ]
  },
  {
   "cell_type": "code",
   "execution_count": 35,
   "metadata": {},
   "outputs": [],
   "source": [
    "def accuracy_report(y_true, y_pred, make_plot=True):\n",
    "    print('MSE: {:.3f}'.format(mse(y_true, y_pred)))\n",
    "    print('RMSE: {:.3f}'.format(np.sqrt(mse(y_true, y_pred))))\n",
    "    print('MAE: {:.3f}'.format(mae(y_true, y_pred)))\n",
    "    if make_plot:\n",
    "        plt.figure(figsize=(8,6))\n",
    "        plt.scatter(y_true, y_pred)\n",
    "        plt.xlabel('Reality')\n",
    "        plt.ylabel('Prediction')\n",
    "        plt.plot([y_true.min(), y_true.max()], [y_true.min(), y_true.max()], 'r--')"
   ]
  },
  {
   "cell_type": "code",
   "execution_count": 36,
   "metadata": {},
   "outputs": [
    {
     "data": {
      "text/html": [
       "<div>\n",
       "<style scoped>\n",
       "    .dataframe tbody tr th:only-of-type {\n",
       "        vertical-align: middle;\n",
       "    }\n",
       "\n",
       "    .dataframe tbody tr th {\n",
       "        vertical-align: top;\n",
       "    }\n",
       "\n",
       "    .dataframe thead th {\n",
       "        text-align: right;\n",
       "    }\n",
       "</style>\n",
       "<table border=\"1\" class=\"dataframe\">\n",
       "  <thead>\n",
       "    <tr style=\"text-align: right;\">\n",
       "      <th></th>\n",
       "      <th>Author</th>\n",
       "      <th>Link</th>\n",
       "      <th>How_many_rooms</th>\n",
       "      <th>Square_meters</th>\n",
       "      <th>Street</th>\n",
       "      <th>All_floors</th>\n",
       "      <th>Commissions %</th>\n",
       "      <th>Price_per_month</th>\n",
       "      <th>Floor</th>\n",
       "      <th>Price_per_meters</th>\n",
       "    </tr>\n",
       "  </thead>\n",
       "  <tbody>\n",
       "    <tr>\n",
       "      <th>0</th>\n",
       "      <td>ID 305100</td>\n",
       "      <td>https://kazan.cian.ru/rent/flat/237818882/</td>\n",
       "      <td>4</td>\n",
       "      <td>186</td>\n",
       "      <td>Sibgata Hakima</td>\n",
       "      <td>16</td>\n",
       "      <td>50</td>\n",
       "      <td>100000</td>\n",
       "      <td>9</td>\n",
       "      <td>537.634409</td>\n",
       "    </tr>\n",
       "    <tr>\n",
       "      <th>1</th>\n",
       "      <td>ID 305100</td>\n",
       "      <td>https://kazan.cian.ru/rent/flat/244424052/</td>\n",
       "      <td>2</td>\n",
       "      <td>62</td>\n",
       "      <td>Sibgata Hakima</td>\n",
       "      <td>18</td>\n",
       "      <td>50</td>\n",
       "      <td>30000</td>\n",
       "      <td>12</td>\n",
       "      <td>483.870968</td>\n",
       "    </tr>\n",
       "    <tr>\n",
       "      <th>2</th>\n",
       "      <td>ID 305100</td>\n",
       "      <td>https://kazan.cian.ru/rent/flat/243318735/</td>\n",
       "      <td>2</td>\n",
       "      <td>75</td>\n",
       "      <td>Dostoevskogo</td>\n",
       "      <td>12</td>\n",
       "      <td>50</td>\n",
       "      <td>30000</td>\n",
       "      <td>5</td>\n",
       "      <td>400.000000</td>\n",
       "    </tr>\n",
       "    <tr>\n",
       "      <th>3</th>\n",
       "      <td>ID 305100</td>\n",
       "      <td>https://kazan.cian.ru/rent/flat/236848944/</td>\n",
       "      <td>3</td>\n",
       "      <td>110</td>\n",
       "      <td>Tovarischeskaja</td>\n",
       "      <td>9</td>\n",
       "      <td>50</td>\n",
       "      <td>50000</td>\n",
       "      <td>5</td>\n",
       "      <td>454.545455</td>\n",
       "    </tr>\n",
       "    <tr>\n",
       "      <th>4</th>\n",
       "      <td>ID 305100</td>\n",
       "      <td>https://kazan.cian.ru/rent/flat/246525819/</td>\n",
       "      <td>2</td>\n",
       "      <td>65</td>\n",
       "      <td>Bol'shaja Krasnaja</td>\n",
       "      <td>5</td>\n",
       "      <td>50</td>\n",
       "      <td>30000</td>\n",
       "      <td>2</td>\n",
       "      <td>461.538462</td>\n",
       "    </tr>\n",
       "  </tbody>\n",
       "</table>\n",
       "</div>"
      ],
      "text/plain": [
       "      Author                                        Link  How_many_rooms  \\\n",
       "0  ID 305100  https://kazan.cian.ru/rent/flat/237818882/               4   \n",
       "1  ID 305100  https://kazan.cian.ru/rent/flat/244424052/               2   \n",
       "2  ID 305100  https://kazan.cian.ru/rent/flat/243318735/               2   \n",
       "3  ID 305100  https://kazan.cian.ru/rent/flat/236848944/               3   \n",
       "4  ID 305100  https://kazan.cian.ru/rent/flat/246525819/               2   \n",
       "\n",
       "   Square_meters                Street  All_floors  Commissions %  \\\n",
       "0            186        Sibgata Hakima          16             50   \n",
       "1             62        Sibgata Hakima          18             50   \n",
       "2             75          Dostoevskogo          12             50   \n",
       "3            110      Tovarischeskaja            9             50   \n",
       "4             65   Bol'shaja Krasnaja            5             50   \n",
       "\n",
       "   Price_per_month  Floor  Price_per_meters  \n",
       "0           100000      9        537.634409  \n",
       "1            30000     12        483.870968  \n",
       "2            30000      5        400.000000  \n",
       "3            50000      5        454.545455  \n",
       "4            30000      2        461.538462  "
      ]
     },
     "execution_count": 36,
     "metadata": {},
     "output_type": "execute_result"
    }
   ],
   "source": [
    "df = pd.read_csv(\"C:\\\\Users\\\\Lenar\\\\PycharmProjects\\\\python-parser-cian\\\\data.csv\")\n",
    "df[\"Price_per_meters\"] = df[\"Price_per_month\"]/(df[\"Square_meters\"].astype(float))\n",
    "df[\"Author\"] = (df[\"Author\"].astype(str))\n",
    "\n",
    "df.head()"
   ]
  },
  {
   "cell_type": "markdown",
   "metadata": {},
   "source": [
    "### Отбросим некоторые признаки"
   ]
  },
  {
   "cell_type": "code",
   "execution_count": 37,
   "metadata": {},
   "outputs": [
    {
     "data": {
      "text/html": [
       "<div>\n",
       "<style scoped>\n",
       "    .dataframe tbody tr th:only-of-type {\n",
       "        vertical-align: middle;\n",
       "    }\n",
       "\n",
       "    .dataframe tbody tr th {\n",
       "        vertical-align: top;\n",
       "    }\n",
       "\n",
       "    .dataframe thead th {\n",
       "        text-align: right;\n",
       "    }\n",
       "</style>\n",
       "<table border=\"1\" class=\"dataframe\">\n",
       "  <thead>\n",
       "    <tr style=\"text-align: right;\">\n",
       "      <th></th>\n",
       "      <th>Author</th>\n",
       "      <th>How_many_rooms</th>\n",
       "      <th>Square_meters</th>\n",
       "      <th>All_floors</th>\n",
       "      <th>Floor</th>\n",
       "      <th>Price_per_meters</th>\n",
       "    </tr>\n",
       "  </thead>\n",
       "  <tbody>\n",
       "    <tr>\n",
       "      <th>0</th>\n",
       "      <td>ID 305100</td>\n",
       "      <td>4</td>\n",
       "      <td>186</td>\n",
       "      <td>16</td>\n",
       "      <td>9</td>\n",
       "      <td>537.634409</td>\n",
       "    </tr>\n",
       "    <tr>\n",
       "      <th>1</th>\n",
       "      <td>ID 305100</td>\n",
       "      <td>2</td>\n",
       "      <td>62</td>\n",
       "      <td>18</td>\n",
       "      <td>12</td>\n",
       "      <td>483.870968</td>\n",
       "    </tr>\n",
       "    <tr>\n",
       "      <th>2</th>\n",
       "      <td>ID 305100</td>\n",
       "      <td>2</td>\n",
       "      <td>75</td>\n",
       "      <td>12</td>\n",
       "      <td>5</td>\n",
       "      <td>400.000000</td>\n",
       "    </tr>\n",
       "    <tr>\n",
       "      <th>3</th>\n",
       "      <td>ID 305100</td>\n",
       "      <td>3</td>\n",
       "      <td>110</td>\n",
       "      <td>9</td>\n",
       "      <td>5</td>\n",
       "      <td>454.545455</td>\n",
       "    </tr>\n",
       "    <tr>\n",
       "      <th>4</th>\n",
       "      <td>ID 305100</td>\n",
       "      <td>2</td>\n",
       "      <td>65</td>\n",
       "      <td>5</td>\n",
       "      <td>2</td>\n",
       "      <td>461.538462</td>\n",
       "    </tr>\n",
       "  </tbody>\n",
       "</table>\n",
       "</div>"
      ],
      "text/plain": [
       "      Author  How_many_rooms  Square_meters  All_floors  Floor  \\\n",
       "0  ID 305100               4            186          16      9   \n",
       "1  ID 305100               2             62          18     12   \n",
       "2  ID 305100               2             75          12      5   \n",
       "3  ID 305100               3            110           9      5   \n",
       "4  ID 305100               2             65           5      2   \n",
       "\n",
       "   Price_per_meters  \n",
       "0        537.634409  \n",
       "1        483.870968  \n",
       "2        400.000000  \n",
       "3        454.545455  \n",
       "4        461.538462  "
      ]
     },
     "execution_count": 37,
     "metadata": {},
     "output_type": "execute_result"
    }
   ],
   "source": [
    "del df['Link']\n",
    "del df['Commissions %']\n",
    "del df['Street']\n",
    "del df['Price_per_month']\n",
    "\n",
    "df.head()"
   ]
  },
  {
   "cell_type": "markdown",
   "metadata": {},
   "source": [
    "### Преобразуем нечисловые признаки в числовые"
   ]
  },
  {
   "cell_type": "code",
   "execution_count": 38,
   "metadata": {},
   "outputs": [
    {
     "data": {
      "text/html": [
       "<div>\n",
       "<style scoped>\n",
       "    .dataframe tbody tr th:only-of-type {\n",
       "        vertical-align: middle;\n",
       "    }\n",
       "\n",
       "    .dataframe tbody tr th {\n",
       "        vertical-align: top;\n",
       "    }\n",
       "\n",
       "    .dataframe thead th {\n",
       "        text-align: right;\n",
       "    }\n",
       "</style>\n",
       "<table border=\"1\" class=\"dataframe\">\n",
       "  <thead>\n",
       "    <tr style=\"text-align: right;\">\n",
       "      <th></th>\n",
       "      <th>Author</th>\n",
       "      <th>How_many_rooms</th>\n",
       "      <th>Square_meters</th>\n",
       "      <th>All_floors</th>\n",
       "      <th>Floor</th>\n",
       "      <th>Price_per_meters</th>\n",
       "    </tr>\n",
       "  </thead>\n",
       "  <tbody>\n",
       "    <tr>\n",
       "      <th>0</th>\n",
       "      <td>54</td>\n",
       "      <td>4</td>\n",
       "      <td>186</td>\n",
       "      <td>16</td>\n",
       "      <td>9</td>\n",
       "      <td>537.634409</td>\n",
       "    </tr>\n",
       "    <tr>\n",
       "      <th>1</th>\n",
       "      <td>54</td>\n",
       "      <td>2</td>\n",
       "      <td>62</td>\n",
       "      <td>18</td>\n",
       "      <td>12</td>\n",
       "      <td>483.870968</td>\n",
       "    </tr>\n",
       "    <tr>\n",
       "      <th>2</th>\n",
       "      <td>54</td>\n",
       "      <td>2</td>\n",
       "      <td>75</td>\n",
       "      <td>12</td>\n",
       "      <td>5</td>\n",
       "      <td>400.000000</td>\n",
       "    </tr>\n",
       "    <tr>\n",
       "      <th>3</th>\n",
       "      <td>54</td>\n",
       "      <td>3</td>\n",
       "      <td>110</td>\n",
       "      <td>9</td>\n",
       "      <td>5</td>\n",
       "      <td>454.545455</td>\n",
       "    </tr>\n",
       "    <tr>\n",
       "      <th>4</th>\n",
       "      <td>54</td>\n",
       "      <td>2</td>\n",
       "      <td>65</td>\n",
       "      <td>5</td>\n",
       "      <td>2</td>\n",
       "      <td>461.538462</td>\n",
       "    </tr>\n",
       "  </tbody>\n",
       "</table>\n",
       "</div>"
      ],
      "text/plain": [
       "   Author  How_many_rooms  Square_meters  All_floors  Floor  Price_per_meters\n",
       "0      54               4            186          16      9        537.634409\n",
       "1      54               2             62          18     12        483.870968\n",
       "2      54               2             75          12      5        400.000000\n",
       "3      54               3            110           9      5        454.545455\n",
       "4      54               2             65           5      2        461.538462"
      ]
     },
     "execution_count": 38,
     "metadata": {},
     "output_type": "execute_result"
    }
   ],
   "source": [
    "enc = LabelEncoder()\n",
    "df.iloc[:,0] = enc.fit_transform(df.iloc[:,0])\n",
    "\n",
    "df.head()"
   ]
  },
  {
   "cell_type": "markdown",
   "metadata": {},
   "source": [
    "### Построим гистаграмму распределения объявлений"
   ]
  },
  {
   "cell_type": "code",
   "execution_count": 39,
   "metadata": {
    "scrolled": true
   },
   "outputs": [
    {
     "data": {
      "text/plain": [
       "<matplotlib.axes._subplots.AxesSubplot at 0x26919bf9448>"
      ]
     },
     "execution_count": 39,
     "metadata": {},
     "output_type": "execute_result"
    },
    {
     "data": {
      "image/png": "[encoded data removed]",
      "text/plain": [
       "<Figure size 432x288 with 1 Axes>"
      ]
     },
     "metadata": {
      "needs_background": "light"
     },
     "output_type": "display_data"
    }
   ],
   "source": [
    "df['Author'].hist()"
   ]
  },
  {
   "cell_type": "markdown",
   "metadata": {},
   "source": [
    "#### Видно, что довольно много людей имеют по несколько сотен объявлений (от 150 и более)"
   ]
  },
  {
   "cell_type": "markdown",
   "metadata": {},
   "source": [
    "### Применим линейную модель"
   ]
  },
  {
   "cell_type": "code",
   "execution_count": 40,
   "metadata": {},
   "outputs": [
    {
     "name": "stdout",
     "output_type": "stream",
     "text": [
      "MSE: 9273.075\n",
      "RMSE: 96.297\n",
      "MAE: 70.460\n"
     ]
    },
    {
     "data": {
      "image/png": "[encoded data removed]",
      "text/plain": [
       "<Figure size 576x432 with 1 Axes>"
      ]
     },
     "metadata": {
      "needs_background": "light"
     },
     "output_type": "display_data"
    }
   ],
   "source": [
    "train_data, test_data, train_labels, test_labels = train_test_split(df.iloc[:, :-1], df.iloc[:, -1], test_size = 0.1, random_state=0)\n",
    "\n",
    "model = LinearRegression()\n",
    "model.fit(X=train_data, y=train_labels)\n",
    "\n",
    "accuracy_report(test_labels, model.predict(test_data))\n"
   ]
  },
  {
   "cell_type": "markdown",
   "metadata": {},
   "source": [
    "### Также применим линейную модель, но предварительно удалив ещё один признак"
   ]
  },
  {
   "cell_type": "code",
   "execution_count": 41,
   "metadata": {},
   "outputs": [
    {
     "data": {
      "text/html": [
       "<div>\n",
       "<style scoped>\n",
       "    .dataframe tbody tr th:only-of-type {\n",
       "        vertical-align: middle;\n",
       "    }\n",
       "\n",
       "    .dataframe tbody tr th {\n",
       "        vertical-align: top;\n",
       "    }\n",
       "\n",
       "    .dataframe thead th {\n",
       "        text-align: right;\n",
       "    }\n",
       "</style>\n",
       "<table border=\"1\" class=\"dataframe\">\n",
       "  <thead>\n",
       "    <tr style=\"text-align: right;\">\n",
       "      <th></th>\n",
       "      <th>Author</th>\n",
       "      <th>How_many_rooms</th>\n",
       "      <th>Square_meters</th>\n",
       "      <th>All_floors</th>\n",
       "      <th>Floor</th>\n",
       "      <th>Price_per_meters</th>\n",
       "    </tr>\n",
       "  </thead>\n",
       "  <tbody>\n",
       "    <tr>\n",
       "      <th>0</th>\n",
       "      <td>54</td>\n",
       "      <td>4</td>\n",
       "      <td>186</td>\n",
       "      <td>16</td>\n",
       "      <td>9</td>\n",
       "      <td>537.634409</td>\n",
       "    </tr>\n",
       "    <tr>\n",
       "      <th>1</th>\n",
       "      <td>54</td>\n",
       "      <td>2</td>\n",
       "      <td>62</td>\n",
       "      <td>18</td>\n",
       "      <td>12</td>\n",
       "      <td>483.870968</td>\n",
       "    </tr>\n",
       "    <tr>\n",
       "      <th>2</th>\n",
       "      <td>54</td>\n",
       "      <td>2</td>\n",
       "      <td>75</td>\n",
       "      <td>12</td>\n",
       "      <td>5</td>\n",
       "      <td>400.000000</td>\n",
       "    </tr>\n",
       "    <tr>\n",
       "      <th>3</th>\n",
       "      <td>54</td>\n",
       "      <td>3</td>\n",
       "      <td>110</td>\n",
       "      <td>9</td>\n",
       "      <td>5</td>\n",
       "      <td>454.545455</td>\n",
       "    </tr>\n",
       "    <tr>\n",
       "      <th>4</th>\n",
       "      <td>54</td>\n",
       "      <td>2</td>\n",
       "      <td>65</td>\n",
       "      <td>5</td>\n",
       "      <td>2</td>\n",
       "      <td>461.538462</td>\n",
       "    </tr>\n",
       "  </tbody>\n",
       "</table>\n",
       "</div>"
      ],
      "text/plain": [
       "   Author  How_many_rooms  Square_meters  All_floors  Floor  Price_per_meters\n",
       "0      54               4            186          16      9        537.634409\n",
       "1      54               2             62          18     12        483.870968\n",
       "2      54               2             75          12      5        400.000000\n",
       "3      54               3            110           9      5        454.545455\n",
       "4      54               2             65           5      2        461.538462"
      ]
     },
     "execution_count": 41,
     "metadata": {},
     "output_type": "execute_result"
    }
   ],
   "source": [
    "df2 = df.copy()\n",
    "df2.head()"
   ]
  },
  {
   "cell_type": "code",
   "execution_count": 42,
   "metadata": {},
   "outputs": [
    {
     "data": {
      "text/html": [
       "<div>\n",
       "<style scoped>\n",
       "    .dataframe tbody tr th:only-of-type {\n",
       "        vertical-align: middle;\n",
       "    }\n",
       "\n",
       "    .dataframe tbody tr th {\n",
       "        vertical-align: top;\n",
       "    }\n",
       "\n",
       "    .dataframe thead th {\n",
       "        text-align: right;\n",
       "    }\n",
       "</style>\n",
       "<table border=\"1\" class=\"dataframe\">\n",
       "  <thead>\n",
       "    <tr style=\"text-align: right;\">\n",
       "      <th></th>\n",
       "      <th>How_many_rooms</th>\n",
       "      <th>Square_meters</th>\n",
       "      <th>All_floors</th>\n",
       "      <th>Floor</th>\n",
       "      <th>Price_per_meters</th>\n",
       "    </tr>\n",
       "  </thead>\n",
       "  <tbody>\n",
       "    <tr>\n",
       "      <th>0</th>\n",
       "      <td>4</td>\n",
       "      <td>186</td>\n",
       "      <td>16</td>\n",
       "      <td>9</td>\n",
       "      <td>537.634409</td>\n",
       "    </tr>\n",
       "    <tr>\n",
       "      <th>1</th>\n",
       "      <td>2</td>\n",
       "      <td>62</td>\n",
       "      <td>18</td>\n",
       "      <td>12</td>\n",
       "      <td>483.870968</td>\n",
       "    </tr>\n",
       "    <tr>\n",
       "      <th>2</th>\n",
       "      <td>2</td>\n",
       "      <td>75</td>\n",
       "      <td>12</td>\n",
       "      <td>5</td>\n",
       "      <td>400.000000</td>\n",
       "    </tr>\n",
       "    <tr>\n",
       "      <th>3</th>\n",
       "      <td>3</td>\n",
       "      <td>110</td>\n",
       "      <td>9</td>\n",
       "      <td>5</td>\n",
       "      <td>454.545455</td>\n",
       "    </tr>\n",
       "    <tr>\n",
       "      <th>4</th>\n",
       "      <td>2</td>\n",
       "      <td>65</td>\n",
       "      <td>5</td>\n",
       "      <td>2</td>\n",
       "      <td>461.538462</td>\n",
       "    </tr>\n",
       "  </tbody>\n",
       "</table>\n",
       "</div>"
      ],
      "text/plain": [
       "   How_many_rooms  Square_meters  All_floors  Floor  Price_per_meters\n",
       "0               4            186          16      9        537.634409\n",
       "1               2             62          18     12        483.870968\n",
       "2               2             75          12      5        400.000000\n",
       "3               3            110           9      5        454.545455\n",
       "4               2             65           5      2        461.538462"
      ]
     },
     "execution_count": 42,
     "metadata": {},
     "output_type": "execute_result"
    }
   ],
   "source": [
    "del df2['Author']\n",
    "\n",
    "df2.head()"
   ]
  },
  {
   "cell_type": "code",
   "execution_count": 43,
   "metadata": {},
   "outputs": [
    {
     "name": "stdout",
     "output_type": "stream",
     "text": [
      "MSE: 9428.346\n",
      "RMSE: 97.100\n",
      "MAE: 72.011\n"
     ]
    },
    {
     "data": {
      "image/png": "[encoded data removed]",
      "text/plain": [
       "<Figure size 576x432 with 1 Axes>"
      ]
     },
     "metadata": {
      "needs_background": "light"
     },
     "output_type": "display_data"
    }
   ],
   "source": [
    "train_data, test_data, train_labels, test_labels = train_test_split(df2.iloc[:, :-1], df2.iloc[:, -1], test_size = 0.1, random_state=0)\n",
    "model = LinearRegression()\n",
    "model.fit(X=train_data, y=train_labels)\n",
    "\n",
    "accuracy_report(test_labels, model.predict(test_data))\n"
   ]
  },
  {
   "cell_type": "code",
   "execution_count": null,
   "metadata": {},
   "outputs": [],
   "source": []
  }
 ],
 "metadata": {
  "kernelspec": {
   "display_name": "Python 3",
   "language": "python",
   "name": "python3"
  },
  "language_info": {
   "codemirror_mode": {
    "name": "ipython",
    "version": 3
   },
   "file_extension": ".py",
   "mimetype": "text/x-python",
   "name": "python",
   "nbconvert_exporter": "python",
   "pygments_lexer": "ipython3",
   "version": "3.7.6"
  }
 },
 "nbformat": 4,
 "nbformat_minor": 4
}
